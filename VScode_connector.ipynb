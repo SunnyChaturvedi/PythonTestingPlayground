{
  "nbformat": 4,
  "nbformat_minor": 0,
  "metadata": {
    "colab": {
      "provenance": [],
      "authorship_tag": "ABX9TyPnj8AOMYIgypfpyHqDPyi1",
      "include_colab_link": true
    },
    "kernelspec": {
      "name": "python3",
      "display_name": "Python 3"
    },
    "language_info": {
      "name": "python"
    }
  },
  "cells": [
    {
      "cell_type": "markdown",
      "metadata": {
        "id": "view-in-github",
        "colab_type": "text"
      },
      "source": [
        "<a href=\"https://colab.research.google.com/github/SunnyChaturvedi/PythonTestingPlayground/blob/main/VScode_connector.ipynb\" target=\"_parent\"><img src=\"https://colab.research.google.com/assets/colab-badge.svg\" alt=\"Open In Colab\"/></a>"
      ]
    },
    {
      "cell_type": "code",
      "source": [
        "!pip3 install -U git+https://github.com/amitness/colab-connect.git"
      ],
      "metadata": {
        "id": "ezMfLmrW2REr",
        "colab": {
          "base_uri": "https://localhost:8080/"
        },
        "outputId": "494e2e71-1e39-43b6-c149-907acf0911ea"
      },
      "execution_count": null,
      "outputs": [
        {
          "output_type": "stream",
          "name": "stdout",
          "text": [
            "Collecting git+https://github.com/amitness/colab-connect.git\n",
            "  Cloning https://github.com/amitness/colab-connect.git to /tmp/pip-req-build-8fisdc3h\n",
            "  Running command git clone --filter=blob:none --quiet https://github.com/amitness/colab-connect.git /tmp/pip-req-build-8fisdc3h\n",
            "  Resolved https://github.com/amitness/colab-connect.git to commit 1aae94940bb5e85af9a33586573342eab9ee3e0a\n",
            "  Preparing metadata (setup.py) ... \u001b[?25l\u001b[?25hdone\n",
            "Building wheels for collected packages: colabconnect\n",
            "  Building wheel for colabconnect (setup.py) ... \u001b[?25l\u001b[?25hdone\n",
            "  Created wheel for colabconnect: filename=colabconnect-0.0.8-py3-none-any.whl size=4548 sha256=1ceb3b57318cd952acd6b43a2ee6ac8bf54cfbc34ad4c113385a465a89547328\n",
            "  Stored in directory: /tmp/pip-ephem-wheel-cache-gtsj8980/wheels/03/ec/01/2b45a7fb6312f3580ad2f4e0e218bf82de5445dc3ee3bca9ba\n",
            "Successfully built colabconnect\n",
            "Installing collected packages: colabconnect\n",
            "Successfully installed colabconnect-0.0.8\n"
          ]
        }
      ]
    },
    {
      "cell_type": "code",
      "source": [
        "from colabconnect import colabconnect\n",
        "colabconnect()"
      ],
      "metadata": {
        "id": "p13vjq5Wg8-r"
      },
      "execution_count": null,
      "outputs": []
    }
  ]
}